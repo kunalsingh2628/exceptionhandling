{
 "cells": [
  {
   "cell_type": "code",
   "execution_count": 1,
   "id": "09e78018-27d0-4826-a5c0-87d8c8c14778",
   "metadata": {},
   "outputs": [],
   "source": [
    "##Q-1"
   ]
  },
  {
   "cell_type": "code",
   "execution_count": null,
   "id": "4183e848-8050-42d6-b879-418a29a141be",
   "metadata": {},
   "outputs": [],
   "source": [
    "Inheritance: By inheriting from the Exception class, your custom exception inherits the common attributes and behaviors provided by the base class. This includes features like stack trace, message handling, and traceback information, which are essential for debugging and understanding the cause of an exception.\n",
    "\n",
    "Compatibility: The Exception class is the base class for all built-in exceptions in Python. By using it as the base class for your custom exception, you ensure that your exception is compatible with the existing exception handling mechanisms in Python. It allows you to catch your custom exception using a generic \"except\" statement or handle it alongside other built-in exceptions.\n",
    "\n",
    "Clarity and Convention: Following the convention of deriving from the Exception class makes your custom exceptions more readable and understandable for other developers. It helps in maintaining consistency across codebases and promotes better code organization."
   ]
  },
  {
   "cell_type": "code",
   "execution_count": 2,
   "id": "fac96f22-cd5a-4ba4-b7fa-19076a8d8846",
   "metadata": {},
   "outputs": [],
   "source": [
    "##Q-2"
   ]
  },
  {
   "cell_type": "code",
   "execution_count": 3,
   "id": "047baf24-acd6-4b49-adec-40a9aa565974",
   "metadata": {},
   "outputs": [],
   "source": [
    "import sys\n",
    "\n",
    "def print_exception_hierarchy():\n",
    "    for exc in sys.modules[__name__].__dict__.values():\n",
    "        if isinstance(exc, type) and issubclass(exc, BaseException):\n",
    "            print(exc.__name__)\n",
    "\n",
    "print_exception_hierarchy()\n"
   ]
  },
  {
   "cell_type": "code",
   "execution_count": 5,
   "id": "59cb005b-f8c9-46c6-8b71-13fe8ed94896",
   "metadata": {},
   "outputs": [],
   "source": [
    "##Q-3"
   ]
  },
  {
   "cell_type": "code",
   "execution_count": 6,
   "id": "3955e6df-6d99-4962-a1d7-055b38506013",
   "metadata": {},
   "outputs": [
    {
     "name": "stdout",
     "output_type": "stream",
     "text": [
      "Error: Division by zero!\n"
     ]
    }
   ],
   "source": [
    "try:\n",
    "    result = 5 / 0\n",
    "except ZeroDivisionError:\n",
    "    print(\"Error: Division by zero!\")\n"
   ]
  },
  {
   "cell_type": "code",
   "execution_count": 7,
   "id": "86d82f45-539b-4084-beae-9beee687cc91",
   "metadata": {},
   "outputs": [],
   "source": [
    "import sys\n",
    "\n",
    "try:\n",
    "    result = sys.maxsize + 1\n",
    "except OverflowError:\n",
    "    print(\"Error: Integer overflow!\")\n"
   ]
  },
  {
   "cell_type": "code",
   "execution_count": 8,
   "id": "f3f2187c-e51b-436b-b8fb-2f82f8446c68",
   "metadata": {},
   "outputs": [],
   "source": [
    "##Q-4"
   ]
  },
  {
   "cell_type": "code",
   "execution_count": null,
   "id": "373040e6-05a4-44cf-8e63-68fa3e2dc6b4",
   "metadata": {},
   "outputs": [],
   "source": [
    "The LookupError class is used as a base class for exceptions related to lookup or indexing operations. It serves as a convenient way to catch multiple related exceptions with a single except block.\n",
    "\n",
    "Two common subclasses of LookupError are KeyError and IndexError:"
   ]
  },
  {
   "cell_type": "code",
   "execution_count": 9,
   "id": "7e498d35-fb26-454b-bbbe-79cd7aeed520",
   "metadata": {},
   "outputs": [
    {
     "name": "stdout",
     "output_type": "stream",
     "text": [
      "Error: Key does not exist!\n"
     ]
    }
   ],
   "source": [
    "my_dict = {\"a\": 1, \"b\": 2}\n",
    "\n",
    "try:\n",
    "    value = my_dict[\"c\"]\n",
    "except KeyError:\n",
    "    print(\"Error: Key does not exist!\")\n"
   ]
  },
  {
   "cell_type": "code",
   "execution_count": 10,
   "id": "4f631dc4-5b4d-4408-b570-1499bcb7c089",
   "metadata": {},
   "outputs": [
    {
     "name": "stdout",
     "output_type": "stream",
     "text": [
      "Error: The module does not exist!\n"
     ]
    }
   ],
   "source": [
    "try:\n",
    "    import non_existent_module\n",
    "except ModuleNotFoundError:\n",
    "    print(\"Error: The module does not exist!\")\n"
   ]
  },
  {
   "cell_type": "code",
   "execution_count": 11,
   "id": "0b3677e1-c702-4226-9635-ed08fb5b32b8",
   "metadata": {},
   "outputs": [],
   "source": [
    "##Q-5"
   ]
  },
  {
   "cell_type": "code",
   "execution_count": null,
   "id": "345c005b-ec3a-470f-b699-9757f5ce3fd9",
   "metadata": {},
   "outputs": [],
   "source": [
    "ImportError is an exception that occurs when importing a module or a component within a module fails. It indicates that the Python interpreter encountered an error while trying to load the requested module or its dependencies."
   ]
  },
  {
   "cell_type": "code",
   "execution_count": 12,
   "id": "3e1397a5-82b1-4d9e-b610-5198c44136da",
   "metadata": {},
   "outputs": [
    {
     "name": "stdout",
     "output_type": "stream",
     "text": [
      "Error: The module does not exist!\n"
     ]
    }
   ],
   "source": [
    "try:\n",
    "    import non_existent_module\n",
    "except ModuleNotFoundError:\n",
    "    print(\"Error: The module does not exist!\")\n"
   ]
  },
  {
   "cell_type": "code",
   "execution_count": 13,
   "id": "a706deac-2cbb-4ff3-b79b-af224039f98e",
   "metadata": {},
   "outputs": [],
   "source": [
    "##Q-6"
   ]
  }
 ],
 "metadata": {
  "kernelspec": {
   "display_name": "Python 3 (ipykernel)",
   "language": "python",
   "name": "python3"
  },
  "language_info": {
   "codemirror_mode": {
    "name": "ipython",
    "version": 3
   },
   "file_extension": ".py",
   "mimetype": "text/x-python",
   "name": "python",
   "nbconvert_exporter": "python",
   "pygments_lexer": "ipython3",
   "version": "3.10.8"
  }
 },
 "nbformat": 4,
 "nbformat_minor": 5
}
